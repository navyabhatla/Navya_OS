{
 "cells": [
  {
   "cell_type": "code",
   "execution_count": 5,
   "metadata": {},
   "outputs": [
    {
     "name": "stdout",
     "output_type": "stream",
     "text": [
      "Enter the number of processes ==>  5\n",
      "Enter the burst time for process 1 =>  2\n",
      "Enter the burst time for process 2 =>  4\n",
      "Enter the burst time for process 3 =>  7\n",
      "Enter the burst time for process 4 =>  6\n",
      "Enter the burst time for process 5 =>  2\n",
      "\n",
      "Weighting Times ==  [0, 2, 6, 13, 19]\n",
      "\n",
      "total weighting time ==  40\n",
      "\n",
      "average weighting time ==  8.0\n",
      "\n",
      "Turn around times for each process  ==  [2, 6, 13, 19, 21]\n",
      "\n",
      "total TAT ==  40\n",
      "\n",
      "Average Turn Around Time ==  12.2\n"
     ]
    }
   ],
   "source": [
    "bt = []\n",
    "n = int(input(\"Enter the number of processes ==>  \"))\n",
    "for i in range(0,n):\n",
    "    bt.append(int(input(\"Enter the burst time for process {} =>  \".format(i+1))))\n",
    "    \n",
    "wt = [0]    \n",
    "for i in range(1,n):\n",
    "    wt.append(bt[i-1]+wt[i-1])\n",
    "    \n",
    "print(\"\\nWeighting Times == \",wt)\n",
    "\n",
    "totalwt = 0\n",
    "for j in range(0,len(wt)):\n",
    "    totalwt = totalwt + wt[j]\n",
    "print(\"\\ntotal weighting time == \",totalwt)\n",
    "\n",
    "avgwt = totalwt/len(bt)\n",
    "print(\"\\naverage weighting time == \",avgwt)\n",
    "\n",
    "tat = []\n",
    "\n",
    "for l in range(0,len(wt)):\n",
    "    tat.append(bt[l] + wt[l])\n",
    "    \n",
    "print(\"\\nTurn around times for each process  == \",tat)\n",
    "\n",
    "totaltat = 0\n",
    "for k in range(0,len(tat)):\n",
    "    totaltat = totaltat + tat[k]\n",
    "print(\"\\ntotal TAT == \",totalwt)\n",
    "\n",
    "avgtat = totaltat/len(tat)\n",
    "print(\"\\nAverage Turn Around Time == \",avgtat)"
   ]
  },
  {
   "cell_type": "code",
   "execution_count": null,
   "metadata": {},
   "outputs": [],
   "source": []
  },
  {
   "cell_type": "code",
   "execution_count": null,
   "metadata": {},
   "outputs": [],
   "source": []
  }
 ],
 "metadata": {
  "kernelspec": {
   "display_name": "Python 3",
   "language": "python",
   "name": "python3"
  },
  "language_info": {
   "codemirror_mode": {
    "name": "ipython",
    "version": 3
   },
   "file_extension": ".py",
   "mimetype": "text/x-python",
   "name": "python",
   "nbconvert_exporter": "python",
   "pygments_lexer": "ipython3",
   "version": "3.6.10"
  }
 },
 "nbformat": 4,
 "nbformat_minor": 4
}
