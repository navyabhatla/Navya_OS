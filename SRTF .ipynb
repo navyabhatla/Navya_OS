{
 "cells": [
  {
   "cell_type": "markdown",
   "metadata": {},
   "source": [
    "# Finding waiting time of the processes"
   ]
  },
  {
   "cell_type": "code",
   "execution_count": 3,
   "metadata": {},
   "outputs": [],
   "source": [
    "def findWaitingTime(process, num, waiting,finish):  \n",
    "    remaining = list(range(0,num))\n",
    "    finish=list(range(0,num))\n",
    "    #initially, remaining time for all the processes iis equal to the burst time\n",
    "    for i in range(0,num):  \n",
    "        remaining[i] = process[i][2] \n",
    "    completed = 0\n",
    "    time = 0\n",
    "    least = 999999999\n",
    "    short = 0\n",
    "    flag = False\n",
    "    #until all processes are not completed\n",
    "    while (completed != num): \n",
    "        #find process that has already arrived and has least remaining time\n",
    "        for j in range(0,num): \n",
    "            if ((process[j][1] <= time) and (remaining[j] < least) and remaining[j] > 0): \n",
    "                least = remaining[j] \n",
    "                index = j \n",
    "                flag = True\n",
    "        if (flag == False): \n",
    "            time += 1\n",
    "            continue\n",
    "        remaining[index]-= 1 \n",
    "        least = remaining[index]  \n",
    "        if (least == 0):  \n",
    "            least = 999999999\n",
    "        #if process has completed\n",
    "        if (remaining[index] == 0):  \n",
    "            completed += 1\n",
    "            flag = False\n",
    "            finish[index] = time + 1 \n",
    "            #calculating waiting time\n",
    "            waiting[index] = (finish[index] - process[index][2] - process[index][1]) \n",
    "            if (waiting[index] < 0): \n",
    "                waiting[index] = 0 \n",
    "        time+= 1"
   ]
  },
  {
   "cell_type": "markdown",
   "metadata": {},
   "source": [
    "## Finding the turn around time"
   ]
  },
  {
   "cell_type": "code",
   "execution_count": 4,
   "metadata": {},
   "outputs": [],
   "source": [
    "def findTurnAroundTime(process,num, waiting, tat):  \n",
    "    for i in range(0,num): \n",
    "        tat[i] = process[i,2] + waiting[i]  "
   ]
  },
  {
   "cell_type": "markdown",
   "metadata": {},
   "source": [
    "# User Inputs "
   ]
  },
  {
   "cell_type": "code",
   "execution_count": 5,
   "metadata": {},
   "outputs": [
    {
     "name": "stdout",
     "output_type": "stream",
     "text": [
      "Enter number of processes : 7\n",
      "\n",
      "Enter the details of process number 1  : \n",
      "Enter Id of the process => 1\n",
      "Enter arrival time => 3\n",
      "Enter burst time => 5\n",
      "\n",
      "Enter the details of process number 2  : \n",
      "Enter Id of the process => 2\n",
      "Enter arrival time => 0\n",
      "Enter burst time => 6\n",
      "\n",
      "Enter the details of process number 3  : \n",
      "Enter Id of the process => 3\n",
      "Enter arrival time => 1\n",
      "Enter burst time => 3\n",
      "\n",
      "Enter the details of process number 4  : \n",
      "Enter Id of the process => 4\n",
      "Enter arrival time => 5\n",
      "Enter burst time => 8\n",
      "\n",
      "Enter the details of process number 5  : \n",
      "Enter Id of the process => 5\n",
      "Enter arrival time => 7\n",
      "Enter burst time => 9\n",
      "\n",
      "Enter the details of process number 6  : \n",
      "Enter Id of the process => 6\n",
      "Enter arrival time => 4\n",
      "Enter burst time => 2\n",
      "\n",
      "Enter the details of process number 7  : \n",
      "Enter Id of the process => 7\n",
      "Enter arrival time => 6\n",
      "Enter burst time => 3\n",
      "------------------------------\n",
      "PROCESS ID\tARRIVAL TIME\tBURST TIME\tWAITING TIME\t TURN AROUND TIME\n",
      "1 \t\t 3 \t\t 5 \t\t 6 \t\t 11\n",
      "2 \t\t 0 \t\t 6 \t\t 13 \t\t 19\n",
      "3 \t\t 1 \t\t 3 \t\t 0 \t\t 3\n",
      "4 \t\t 5 \t\t 8 \t\t 14 \t\t 22\n",
      "5 \t\t 7 \t\t 9 \t\t 20 \t\t 29\n",
      "6 \t\t 4 \t\t 2 \t\t 0 \t\t 2\n",
      "7 \t\t 6 \t\t 3 \t\t 0 \t\t 3\n"
     ]
    }
   ],
   "source": [
    "import numpy\n",
    "num=int(input(\"Enter number of processes : \"))\n",
    "process=numpy.zeros((num,3)).astype(int)\n",
    "for i in range(0,num):\n",
    "    print(\"\\nEnter the details of process number\",i+1,\" : \")\n",
    "    process[i][0]=int(input(\"Enter Id of the process => \"))\n",
    "    process[i][1]=int(input(\"Enter arrival time => \"))\n",
    "    process[i][2]=int(input(\"Enter burst time => \"))\n",
    "print(\"------------------------------\")\n",
    "waiting=list(range(0,num))\n",
    "finish=list(range(0,num))\n",
    "findWaitingTime(process, num, waiting,finish)  \n",
    "tat=list(range(0,num))\n",
    "findTurnAroundTime(process,num,waiting,tat)\n",
    "averageWaitingTime=sum(waiting)/num\n",
    "averageTurnAround=sum(tat)/num\n",
    "#printing\n",
    "print(\"PROCESS ID\\tARRIVAL TIME\\tBURST TIME\\tWAITING TIME\\t TURN AROUND TIME\")\n",
    "for i in range(0,num):\n",
    "    print(int(process[i,0]),\"\\t\\t\",process[i,1],\"\\t\\t\",process[i,2],\"\\t\\t\",waiting[i],\"\\t\\t\",tat[i])"
   ]
  },
  {
   "cell_type": "code",
   "execution_count": null,
   "metadata": {},
   "outputs": [],
   "source": []
  }
 ],
 "metadata": {
  "kernelspec": {
   "display_name": "Python 3",
   "language": "python",
   "name": "python3"
  },
  "language_info": {
   "codemirror_mode": {
    "name": "ipython",
    "version": 3
   },
   "file_extension": ".py",
   "mimetype": "text/x-python",
   "name": "python",
   "nbconvert_exporter": "python",
   "pygments_lexer": "ipython3",
   "version": "3.6.10"
  }
 },
 "nbformat": 4,
 "nbformat_minor": 4
}
